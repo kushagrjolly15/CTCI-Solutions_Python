{
 "cells": [
  {
   "cell_type": "code",
   "execution_count": 11,
   "metadata": {},
   "outputs": [],
   "source": [
    "def detect_cycle(head):\n",
    "    prev = head\n",
    "    curr = head.next\n",
    "    res = {}\n",
    "    while curr:\n",
    "        res[prev] = 1\n",
    "        if curr in res:\n",
    "            return curr\n",
    "        prev = prev.next\n",
    "        curr = curr.next\n",
    "    return None"
   ]
  },
  {
   "cell_type": "code",
   "execution_count": 12,
   "metadata": {},
   "outputs": [],
   "source": [
    "class Node():\n",
    "    def __init__(self, data, next=None):\n",
    "        self.data = data \n",
    "        self.next = next"
   ]
  },
  {
   "cell_type": "code",
   "execution_count": 13,
   "metadata": {},
   "outputs": [
    {
     "name": "stdout",
     "output_type": "stream",
     "text": [
      "None\n",
      "<__main__.Node object at 0x103c418d0>\n"
     ]
    }
   ],
   "source": [
    "if __name__ == \"__main__\":\n",
    "        head1 = Node(100,Node(200,Node(300)))\n",
    "        print(detect_cycle(head1))\n",
    "        node1 = Node(600)\n",
    "        node2 = Node(700,Node(800,Node(900,node1)))\n",
    "        node1.next = node2\n",
    "        head2 = Node(500,node1)\n",
    "        print(detect_cycle(head2))"
   ]
  },
  {
   "cell_type": "code",
   "execution_count": null,
   "metadata": {},
   "outputs": [],
   "source": []
  }
 ],
 "metadata": {
  "kernelspec": {
   "display_name": "Python 3",
   "language": "python",
   "name": "python3"
  },
  "language_info": {
   "codemirror_mode": {
    "name": "ipython",
    "version": 3
   },
   "file_extension": ".py",
   "mimetype": "text/x-python",
   "name": "python",
   "nbconvert_exporter": "python",
   "pygments_lexer": "ipython3",
   "version": "3.7.6"
  }
 },
 "nbformat": 4,
 "nbformat_minor": 4
}
