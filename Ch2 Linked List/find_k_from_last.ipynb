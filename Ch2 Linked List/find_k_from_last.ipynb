{
 "cells": [
  {
   "cell_type": "markdown",
   "metadata": {},
   "source": [
    "Implement an algorithm to find the kth to last element of a singly linked list."
   ]
  },
  {
   "cell_type": "code",
   "execution_count": 13,
   "metadata": {},
   "outputs": [],
   "source": [
    "class Node(object):\n",
    "    def __init__(self, data=None, next=None):\n",
    "        self.data = data\n",
    "        self.next = next"
   ]
  },
  {
   "cell_type": "code",
   "execution_count": 14,
   "metadata": {},
   "outputs": [],
   "source": [
    "class SingleList(object):\n",
    "    head = None\n",
    "    tail = None\n",
    "    def show(self):\n",
    "        x = self.head\n",
    "        while x:\n",
    "            print(x.data, end = '')\n",
    "            print('-->', end = '')\n",
    "            x = x.next\n",
    "        print(None)\n",
    "    def append(self, data):\n",
    "        new_node = Node(data, None)\n",
    "        if self.head is None:\n",
    "            self.head = self.tail = new_node\n",
    "        else:\n",
    "            self.tail.next = new_node\n",
    "            self.tail = new_node\n",
    "    def find_k_recursevely(self, k):\n",
    "        return self.find_k_recurse(k, self.head)[0]\n",
    "    def find_k_recurse(self, k ,node):\n",
    "        if node is None:\n",
    "            return (None, 0)\n",
    "        k_data, val = self.find_k_recurse(k, node.next)\n",
    "        if val == k:\n",
    "            return (node.data, val + 1)\n",
    "        else:\n",
    "            return (k_data, val + 1)"
   ]
  },
  {
   "cell_type": "code",
   "execution_count": 15,
   "metadata": {},
   "outputs": [
    {
     "name": "stdout",
     "output_type": "stream",
     "text": [
      "F-->O-->L-->L-->O-->W--> -->U-->P-->None\n",
      "U\n"
     ]
    }
   ],
   "source": [
    "if __name__ == \"__main__\":\n",
    "    ll = SingleList()\n",
    "    ll.append(\"F\")\n",
    "    ll.append(\"O\")\n",
    "    ll.append(\"L\")\n",
    "    ll.append(\"L\")\n",
    "    ll.append(\"O\")\n",
    "    ll.append(\"W\")\n",
    "    ll.append(\" \")\n",
    "    ll.append(\"U\")\n",
    "    ll.append(\"P\")\n",
    "    ll.show()\n",
    "    print(ll.find_k_recursevely(1))"
   ]
  },
  {
   "cell_type": "code",
   "execution_count": null,
   "metadata": {},
   "outputs": [],
   "source": []
  }
 ],
 "metadata": {
  "kernelspec": {
   "display_name": "Python 3",
   "language": "python",
   "name": "python3"
  },
  "language_info": {
   "codemirror_mode": {
    "name": "ipython",
    "version": 3
   },
   "file_extension": ".py",
   "mimetype": "text/x-python",
   "name": "python",
   "nbconvert_exporter": "python",
   "pygments_lexer": "ipython3",
   "version": "3.7.6"
  }
 },
 "nbformat": 4,
 "nbformat_minor": 4
}
