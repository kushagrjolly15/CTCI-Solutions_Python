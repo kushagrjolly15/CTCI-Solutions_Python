{
 "cells": [
  {
   "cell_type": "code",
   "execution_count": 15,
   "metadata": {},
   "outputs": [],
   "source": [
    "class Node(object):\n",
    "    def __init__(self, data=None, next=None):\n",
    "        self.data = data\n",
    "        self.next = next"
   ]
  },
  {
   "cell_type": "code",
   "execution_count": 22,
   "metadata": {},
   "outputs": [],
   "source": [
    "class SingleList(object):\n",
    "    head = None\n",
    "    tail = None\n",
    "    def show(self):\n",
    "        x = self.head\n",
    "        while x:\n",
    "            print(x.data, end = '')\n",
    "            print('-->', end = '')\n",
    "            x = x.next\n",
    "        print(None)\n",
    "    def append(self, data):\n",
    "        new_node = Node(data, None)\n",
    "        if self.head is None:\n",
    "            self.head = self.tail = new_node\n",
    "        else:\n",
    "            self.tail.next = new_node\n",
    "            self.tail = new_node\n",
    "            \n",
    "    def deleteNode(self, node):\n",
    "        if node is None or node.next is None:\n",
    "            return False\n",
    "        node.data = node.next.data\n",
    "        node.next = node.next.next\n",
    "        return True\n",
    "\n",
    "    def deleteNodeN(self, n):\n",
    "        i = 1\n",
    "        x = self.head\n",
    "        while x and i != n:\n",
    "            x = x.next\n",
    "            i += 1\n",
    "        self.deleteNode(x)"
   ]
  },
  {
   "cell_type": "code",
   "execution_count": 23,
   "metadata": {},
   "outputs": [
    {
     "name": "stdout",
     "output_type": "stream",
     "text": [
      "1-->2-->3-->4-->5-->6-->7-->8-->9-->None\n",
      "1-->2-->4-->5-->6-->7-->8-->9-->None\n"
     ]
    }
   ],
   "source": [
    "if __name__ == \"__main__\":\n",
    "    ll = SingleList()\n",
    "    ll.append(1)\n",
    "    ll.append(2)\n",
    "    ll.append(3)\n",
    "    ll.append(4)\n",
    "    ll.append(5)\n",
    "    ll.append(6)\n",
    "    ll.append(7)\n",
    "    ll.append(8)\n",
    "    ll.append(9)\n",
    "    ll.show()\n",
    "    ll.deleteNodeN(3)\n",
    "    ll.show()"
   ]
  },
  {
   "cell_type": "code",
   "execution_count": null,
   "metadata": {},
   "outputs": [],
   "source": []
  }
 ],
 "metadata": {
  "kernelspec": {
   "display_name": "Python 3",
   "language": "python",
   "name": "python3"
  },
  "language_info": {
   "codemirror_mode": {
    "name": "ipython",
    "version": 3
   },
   "file_extension": ".py",
   "mimetype": "text/x-python",
   "name": "python",
   "nbconvert_exporter": "python",
   "pygments_lexer": "ipython3",
   "version": "3.7.6"
  }
 },
 "nbformat": 4,
 "nbformat_minor": 4
}
