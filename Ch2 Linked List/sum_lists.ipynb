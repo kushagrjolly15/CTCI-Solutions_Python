{
 "cells": [
  {
   "cell_type": "code",
   "execution_count": 23,
   "metadata": {},
   "outputs": [],
   "source": [
    "class ListNode:\n",
    "    def __init__(self, val=0, next=None):\n",
    "        self.val = val\n",
    "        self.next = next"
   ]
  },
  {
   "cell_type": "code",
   "execution_count": 21,
   "metadata": {},
   "outputs": [],
   "source": [
    "class Solution:\n",
    "    def addTwoNumbers(self, l1: ListNode, l2: ListNode) -> ListNode:\n",
    "        dummy = ListNode(0)\n",
    "        head = dummy\n",
    "        result = 0\n",
    "        while l1 is not None or l2 is not None or result > 0:\n",
    "            if l1 is not None:\n",
    "                result += l1.val\n",
    "                l1 = l1.next\n",
    "            if l2 is not None:\n",
    "                result += l2.val\n",
    "                l2 = l2.next\n",
    "            head.next = ListNode(result % 10)\n",
    "            head = head.next\n",
    "            result //= 10\n",
    "        return dummy.next"
   ]
  },
  {
   "cell_type": "code",
   "execution_count": 22,
   "metadata": {},
   "outputs": [],
   "source": [
    "if __name__ == \"__main__\":\n",
    "    ll = Solution()\n",
    "    num1 = ListNode(2,ListNode(4,ListNode(3)))\n",
    "    num2 = ListNode(5,ListNode(6,ListNode(4)))\n",
    "    total = ll.addTwoNumbers(num1, num2)\n",
    "#     print(str(total))"
   ]
  },
  {
   "cell_type": "code",
   "execution_count": null,
   "metadata": {},
   "outputs": [],
   "source": []
  }
 ],
 "metadata": {
  "kernelspec": {
   "display_name": "Python 3",
   "language": "python",
   "name": "python3"
  },
  "language_info": {
   "codemirror_mode": {
    "name": "ipython",
    "version": 3
   },
   "file_extension": ".py",
   "mimetype": "text/x-python",
   "name": "python",
   "nbconvert_exporter": "python",
   "pygments_lexer": "ipython3",
   "version": "3.7.6"
  }
 },
 "nbformat": 4,
 "nbformat_minor": 4
}
