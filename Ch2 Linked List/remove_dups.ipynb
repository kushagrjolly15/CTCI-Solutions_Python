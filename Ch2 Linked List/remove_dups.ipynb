{
 "cells": [
  {
   "cell_type": "markdown",
   "metadata": {},
   "source": [
    "Write code to remove duplicates from an unsorted linked list.\n",
    "FOLLOW UP\n",
    "How would you solve this problem if a temporary buffer is not allowed?"
   ]
  },
  {
   "cell_type": "code",
   "execution_count": 3,
   "metadata": {},
   "outputs": [],
   "source": [
    "class Node(object):\n",
    "    def __init__(self, data=None, next=None):\n",
    "        self.data = data\n",
    "        self.next = next"
   ]
  },
  {
   "cell_type": "code",
   "execution_count": 13,
   "metadata": {},
   "outputs": [],
   "source": [
    "class SingleList(object):\n",
    "    head = None\n",
    "    tail = None\n",
    "    def show(self):\n",
    "        x = self.head\n",
    "        while x:\n",
    "            print(x.data, end = '')\n",
    "            print('-->', end = '')\n",
    "            x = x.next\n",
    "        print(None)\n",
    "    def append(self, data):\n",
    "        new_node = Node(data, None)\n",
    "        if self.head is None:\n",
    "            self.head = self.tail = new_node\n",
    "        else:\n",
    "            self.tail.next = new_node\n",
    "            self.tail = new_node\n",
    "#     def remove(self, node_value):\n",
    "#         prev = None\n",
    "#         x = self.head\n",
    "#         while x:\n",
    "#             if x.data == node_value:\n",
    "#                 if prev:\n",
    "#                     prev.next = x.next\n",
    "#                 else:\n",
    "#                     self.head = x.next\n",
    "#                 break\n",
    "#             else:\n",
    "#                 prev = x\n",
    "#                 x = x.next\n",
    "#         if x.next is None:\n",
    "#             self.tail = x\n",
    "#         if self.head is None:\n",
    "#             self.tail = None\n",
    "    def remove_duplicates(self):\n",
    "        x = self.head\n",
    "        fast = x\n",
    "        while x:\n",
    "            while fast.next:\n",
    "                if x.data == fast.next.data:\n",
    "                    fast.next = fast.next.next\n",
    "                else:\n",
    "                    fast = fast.next\n",
    "            x = x.next\n",
    "            fast = x"
   ]
  },
  {
   "cell_type": "code",
   "execution_count": 14,
   "metadata": {},
   "outputs": [
    {
     "name": "stdout",
     "output_type": "stream",
     "text": [
      "F-->O-->L-->L-->O-->W--> -->U-->P-->None\n",
      "F-->O-->L-->W--> -->U-->P-->None\n",
      "W\n"
     ]
    }
   ],
   "source": [
    "if __name__ == \"__main__\":\n",
    "    ll = SingleList()\n",
    "    ll.append(\"F\")\n",
    "    ll.append(\"O\")\n",
    "    ll.append(\"L\")\n",
    "    ll.append(\"L\")\n",
    "    ll.append(\"O\")\n",
    "    ll.append(\"W\")\n",
    "    ll.append(\" \")\n",
    "    ll.append(\"U\")\n",
    "    ll.append(\"P\")\n",
    "    ll.show()\n",
    "    # ll.remove_duplicates_with_buffer()\n",
    "    ll.remove_duplicates()\n",
    "    ll.show()\n"
   ]
  },
  {
   "cell_type": "code",
   "execution_count": null,
   "metadata": {},
   "outputs": [],
   "source": []
  }
 ],
 "metadata": {
  "kernelspec": {
   "display_name": "Python 3",
   "language": "python",
   "name": "python3"
  },
  "language_info": {
   "codemirror_mode": {
    "name": "ipython",
    "version": 3
   },
   "file_extension": ".py",
   "mimetype": "text/x-python",
   "name": "python",
   "nbconvert_exporter": "python",
   "pygments_lexer": "ipython3",
   "version": "3.7.6"
  }
 },
 "nbformat": 4,
 "nbformat_minor": 4
}
