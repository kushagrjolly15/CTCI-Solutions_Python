{
 "cells": [
  {
   "cell_type": "code",
   "execution_count": 1,
   "metadata": {},
   "outputs": [],
   "source": [
    "import unittest"
   ]
  },
  {
   "cell_type": "code",
   "execution_count": 16,
   "metadata": {},
   "outputs": [],
   "source": [
    "def intersection(head1, head2):\n",
    "    test = {}\n",
    "    while head1:\n",
    "        test[head1] = 1\n",
    "        head1 = head1.next\n",
    "    while head2:\n",
    "        if head2 in test:\n",
    "            return head2\n",
    "        head2 = head2.next\n",
    "    return None"
   ]
  },
  {
   "cell_type": "code",
   "execution_count": 17,
   "metadata": {},
   "outputs": [],
   "source": [
    "class Node():\n",
    "    def __init__(self, data, next=None):\n",
    "            self.data, self.next = data, next\n",
    "    def __str__(self):\n",
    "        string = str(self.data)\n",
    "        if self.next:\n",
    "              string += ',' + str(self.next)\n",
    "        return string"
   ]
  },
  {
   "cell_type": "code",
   "execution_count": 18,
   "metadata": {},
   "outputs": [
    {
     "name": "stdout",
     "output_type": "stream",
     "text": [
      "None\n",
      "70,80\n"
     ]
    }
   ],
   "source": [
    "if __name__ == \"__main__\":\n",
    "        head1 = Node(10,Node(20,Node(30)))\n",
    "        head2 = Node(20,Node(30,Node(40)))\n",
    "        print(intersection(head1, head2))\n",
    "        node = Node(70,Node(80))\n",
    "        head3 = Node(50,Node(20,node))\n",
    "        head4 = Node(60,Node(90,Node(10,node)))\n",
    "        print(intersection(head3, head4))"
   ]
  },
  {
   "cell_type": "code",
   "execution_count": null,
   "metadata": {},
   "outputs": [],
   "source": []
  }
 ],
 "metadata": {
  "kernelspec": {
   "display_name": "Python 3",
   "language": "python",
   "name": "python3"
  },
  "language_info": {
   "codemirror_mode": {
    "name": "ipython",
    "version": 3
   },
   "file_extension": ".py",
   "mimetype": "text/x-python",
   "name": "python",
   "nbconvert_exporter": "python",
   "pygments_lexer": "ipython3",
   "version": "3.7.6"
  }
 },
 "nbformat": 4,
 "nbformat_minor": 4
}
