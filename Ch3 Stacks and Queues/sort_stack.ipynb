{
 "cells": [
  {
   "cell_type": "code",
   "execution_count": 26,
   "metadata": {},
   "outputs": [],
   "source": [
    "class Node(object):\n",
    "    def __init__(self, data, next = None):\n",
    "        self.data = data\n",
    "        self.next = next"
   ]
  },
  {
   "cell_type": "code",
   "execution_count": 27,
   "metadata": {},
   "outputs": [],
   "source": [
    "class Stack(object):\n",
    "\n",
    "    def __init__(self, head=None):\n",
    "        self.head = head\n",
    "\n",
    "    def push(self, data):\n",
    "        self.head = Node(data, self.head)\n",
    "\n",
    "    def pop(self):\n",
    "        if self.is_empty():\n",
    "            raise Exception(\"Stack is empty.\")\n",
    "        else:\n",
    "            data = self.head.data\n",
    "            self.head = self.head.next\n",
    "            return data\n",
    "\n",
    "    def peek(self):\n",
    "        if self.is_empty():\n",
    "            raise Exception(\"Stack is empty.\")\n",
    "        else:\n",
    "            return self.head.data\n",
    "\n",
    "    def is_empty(self):\n",
    "        return self.head is None\n",
    "\n",
    "    def print_stack(self):\n",
    "        x = self.head\n",
    "        while x:\n",
    "            print(x.data, \"-> \", end=\"\")\n",
    "            x = x.next\n",
    "        print(None)\n",
    "\n",
    "    def copy(self):\n",
    "        s = Stack()\n",
    "        x = self.head\n",
    "        while x:\n",
    "            s.push(x.data)\n",
    "            x = x.next\n",
    "        return s"
   ]
  },
  {
   "cell_type": "code",
   "execution_count": 30,
   "metadata": {},
   "outputs": [],
   "source": [
    "def sort(stack):\n",
    "    s = stack.copy()\n",
    "    r = Stack()\n",
    "    while not s.is_empty():\n",
    "        tmp = s.pop()\n",
    "        while not r.is_empty() and tmp > r.peek():\n",
    "            s.push(r.pop())\n",
    "        r.push(tmp)\n",
    "    return r"
   ]
  },
  {
   "cell_type": "code",
   "execution_count": 31,
   "metadata": {},
   "outputs": [
    {
     "name": "stdout",
     "output_type": "stream",
     "text": [
      "3 -> 1 -> 5 -> 4 -> 2 -> None\n",
      "1 -> 2 -> 3 -> 4 -> 5 -> None\n"
     ]
    }
   ],
   "source": [
    "if __name__ == \"__main__\":\n",
    "    s = Stack()\n",
    "    s.push(2)\n",
    "    s.push(4)\n",
    "    s.push(5)\n",
    "    s.push(1)\n",
    "    s.push(3)\n",
    "    r = sort(s)\n",
    "    s.print_stack()\n",
    "    r.print_stack()"
   ]
  }
 ],
 "metadata": {
  "kernelspec": {
   "display_name": "Python 3",
   "language": "python",
   "name": "python3"
  },
  "language_info": {
   "codemirror_mode": {
    "name": "ipython",
    "version": 3
   },
   "file_extension": ".py",
   "mimetype": "text/x-python",
   "name": "python",
   "nbconvert_exporter": "python",
   "pygments_lexer": "ipython3",
   "version": "3.7.6"
  }
 },
 "nbformat": 4,
 "nbformat_minor": 4
}
