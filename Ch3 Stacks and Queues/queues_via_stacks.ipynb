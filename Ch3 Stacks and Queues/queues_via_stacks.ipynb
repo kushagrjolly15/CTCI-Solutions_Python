{
 "cells": [
  {
   "cell_type": "code",
   "execution_count": 1,
   "metadata": {},
   "outputs": [],
   "source": [
    "# class Node(object):\n",
    "\n",
    "#     def __init__(self, data, next=None):\n",
    "#         self.data = data\n",
    "#         self.next = next"
   ]
  },
  {
   "cell_type": "code",
   "execution_count": 5,
   "metadata": {},
   "outputs": [],
   "source": [
    "class Stack():\n",
    "    def __init__(self):\n",
    "        self.array = []\n",
    "  \n",
    "    def __len__(self):\n",
    "        return len(self.array)\n",
    "  \n",
    "    def push(self, item):\n",
    "        self.array.append(item)\n",
    "  \n",
    "    def pop(self):\n",
    "        if not len(self.array):\n",
    "            return None\n",
    "        return self.array.pop()"
   ]
  },
  {
   "cell_type": "code",
   "execution_count": 6,
   "metadata": {},
   "outputs": [],
   "source": [
    "class MyQueue(object):\n",
    "    def __init__(self):\n",
    "        self.in_stack = Stack()\n",
    "        self.out_stack = Stack()\n",
    "    \n",
    "    def add(self, val):\n",
    "        self.in_stack.push(val)\n",
    "    \n",
    "    def remove(self):\n",
    "        if not self.out_stack:\n",
    "            while len(self.in_stack):\n",
    "                self.out_stack.push(self.in_stack.pop())\n",
    "        return self.out_stack.pop()"
   ]
  },
  {
   "cell_type": "code",
   "execution_count": 7,
   "metadata": {},
   "outputs": [
    {
     "name": "stdout",
     "output_type": "stream",
     "text": [
      "11\n",
      "22\n",
      "33\n",
      "44\n",
      "55\n",
      "66\n",
      "77\n",
      "None\n"
     ]
    }
   ],
   "source": [
    "if __name__ == \"__main__\":\n",
    "    queue = MyQueue()\n",
    "    queue.add(11)\n",
    "    queue.add(22)\n",
    "    queue.add(33)\n",
    "    print(queue.remove())\n",
    "    queue.add(44)\n",
    "    queue.add(55)\n",
    "    queue.add(66)\n",
    "    print(queue.remove())\n",
    "    print(queue.remove())\n",
    "    print(queue.remove())\n",
    "    print(queue.remove())\n",
    "    queue.add(77)\n",
    "    print(queue.remove())\n",
    "    print(queue.remove())\n",
    "    print(queue.remove())"
   ]
  },
  {
   "cell_type": "code",
   "execution_count": null,
   "metadata": {},
   "outputs": [],
   "source": []
  }
 ],
 "metadata": {
  "kernelspec": {
   "display_name": "Python 3",
   "language": "python",
   "name": "python3"
  },
  "language_info": {
   "codemirror_mode": {
    "name": "ipython",
    "version": 3
   },
   "file_extension": ".py",
   "mimetype": "text/x-python",
   "name": "python",
   "nbconvert_exporter": "python",
   "pygments_lexer": "ipython3",
   "version": "3.7.6"
  }
 },
 "nbformat": 4,
 "nbformat_minor": 4
}
