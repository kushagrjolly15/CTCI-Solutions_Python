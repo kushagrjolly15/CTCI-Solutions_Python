{
 "cells": [
  {
   "cell_type": "code",
   "execution_count": 7,
   "metadata": {},
   "outputs": [],
   "source": [
    "class StackMin():\n",
    "    def __init__(self):\n",
    "        self.stack = []\n",
    "        self.minStack = []\n",
    "        \n",
    "    def add(self, item):\n",
    "        self.stack.append(item)\n",
    "        if len(self.minStack) == 0 or item <= self.minStack[-1]:\n",
    "            self.minStack.append(item)\n",
    "            \n",
    "    def pop(self):\n",
    "        value = self.stack.pop()\n",
    "        if value == self.minStack[-1]:\n",
    "            self.minStack.pop()\n",
    "            \n",
    "    def getMin(self):\n",
    "        return self.minStack[-1]"
   ]
  },
  {
   "cell_type": "code",
   "execution_count": 8,
   "metadata": {},
   "outputs": [
    {
     "name": "stdout",
     "output_type": "stream",
     "text": [
      "10\n",
      "10\n",
      "8\n",
      "10\n"
     ]
    }
   ],
   "source": [
    "if __name__ == '__main__':\n",
    "    s = StackMin()\n",
    "    s.add(10)\n",
    "    print(s.getMin())\n",
    "    s.add(15)\n",
    "    print(s.getMin())\n",
    "    s.add(8)\n",
    "    print(s.getMin())\n",
    "    s.pop()\n",
    "    print(s.getMin())"
   ]
  }
 ],
 "metadata": {
  "kernelspec": {
   "display_name": "Python 3",
   "language": "python",
   "name": "python3"
  },
  "language_info": {
   "codemirror_mode": {
    "name": "ipython",
    "version": 3
   },
   "file_extension": ".py",
   "mimetype": "text/x-python",
   "name": "python",
   "nbconvert_exporter": "python",
   "pygments_lexer": "ipython3",
   "version": "3.7.6"
  }
 },
 "nbformat": 4,
 "nbformat_minor": 4
}
