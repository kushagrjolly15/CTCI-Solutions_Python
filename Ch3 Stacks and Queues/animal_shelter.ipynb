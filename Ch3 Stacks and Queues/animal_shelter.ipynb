{
 "cells": [
  {
   "cell_type": "code",
   "execution_count": 1,
   "metadata": {},
   "outputs": [],
   "source": [
    "# Implement a cat and dog queue for an animal shelter."
   ]
  },
  {
   "cell_type": "code",
   "execution_count": 3,
   "metadata": {},
   "outputs": [],
   "source": [
    "class Animal():\n",
    "    def __init__(self, name):\n",
    "        self.name = name\n",
    "        \n",
    "    def __str__(self):\n",
    "        return self.name"
   ]
  },
  {
   "cell_type": "code",
   "execution_count": 4,
   "metadata": {},
   "outputs": [],
   "source": [
    "class Cat(Animal): pass"
   ]
  },
  {
   "cell_type": "code",
   "execution_count": 5,
   "metadata": {},
   "outputs": [],
   "source": [
    "class Dog(Animal): pass"
   ]
  },
  {
   "cell_type": "code",
   "execution_count": 7,
   "metadata": {},
   "outputs": [],
   "source": [
    "class AnimalShelter(object):\n",
    "    def __init__(self):\n",
    "        self.cats = []\n",
    "        self.dogs = []\n",
    "        \n",
    "    def enqueue(self, animal):\n",
    "        if animal.__class == Cat:\n",
    "            self.cats.append(animal)\n",
    "        else:\n",
    "            self.dogs.append(animal)\n",
    "    \n",
    "    def dequeueAny(self):\n",
    "        if len(self.cats):\n",
    "            return self.dequeueCat()\n",
    "        else:\n",
    "            return self.deququeDog()\n",
    "        \n",
    "    def dequeueCat():\n",
    "        if not self.cats:\n",
    "            return None\n",
    "        cat = self.cats[0]\n",
    "        self.cats = self.cats[1:]\n",
    "        return cat\n",
    "    \n",
    "    def dequeueDog():\n",
    "        if not self.dogs:\n",
    "            return None\n",
    "        dog = self.dogs[0]\n",
    "        self.dogs = self.dogs[1:]\n",
    "        return dog"
   ]
  },
  {
   "cell_type": "code",
   "execution_count": 11,
   "metadata": {},
   "outputs": [
    {
     "ename": "AttributeError",
     "evalue": "'Cat' object has no attribute '_AnimalShelter__class'",
     "output_type": "error",
     "traceback": [
      "\u001b[0;31m---------------------------------------------------------------------------\u001b[0m",
      "\u001b[0;31mAttributeError\u001b[0m                            Traceback (most recent call last)",
      "\u001b[0;32m<ipython-input-11-807825f165cf>\u001b[0m in \u001b[0;36m<module>\u001b[0;34m\u001b[0m\n\u001b[1;32m      2\u001b[0m     \u001b[0mshelter\u001b[0m \u001b[0;34m=\u001b[0m \u001b[0mAnimalShelter\u001b[0m\u001b[0;34m(\u001b[0m\u001b[0;34m)\u001b[0m\u001b[0;34m\u001b[0m\u001b[0;34m\u001b[0m\u001b[0m\n\u001b[1;32m      3\u001b[0m     \u001b[0mcat1\u001b[0m \u001b[0;34m=\u001b[0m \u001b[0mCat\u001b[0m\u001b[0;34m(\u001b[0m\u001b[0;34m'Pluto'\u001b[0m\u001b[0;34m)\u001b[0m\u001b[0;34m\u001b[0m\u001b[0;34m\u001b[0m\u001b[0m\n\u001b[0;32m----> 4\u001b[0;31m     \u001b[0mshelter\u001b[0m\u001b[0;34m.\u001b[0m\u001b[0menqueue\u001b[0m\u001b[0;34m(\u001b[0m\u001b[0mcat1\u001b[0m\u001b[0;34m)\u001b[0m\u001b[0;34m\u001b[0m\u001b[0;34m\u001b[0m\u001b[0m\n\u001b[0m\u001b[1;32m      5\u001b[0m     \u001b[0mshelter\u001b[0m\u001b[0;34m.\u001b[0m\u001b[0menqueue\u001b[0m\u001b[0;34m(\u001b[0m\u001b[0mDog\u001b[0m\u001b[0;34m(\u001b[0m\u001b[0;34m\"Pluto\"\u001b[0m\u001b[0;34m)\u001b[0m\u001b[0;34m)\u001b[0m\u001b[0;34m\u001b[0m\u001b[0;34m\u001b[0m\u001b[0m\n\u001b[1;32m      6\u001b[0m     \u001b[0mshelter\u001b[0m\u001b[0;34m.\u001b[0m\u001b[0menqueue\u001b[0m\u001b[0;34m(\u001b[0m\u001b[0mCat\u001b[0m\u001b[0;34m(\u001b[0m\u001b[0;34m\"Garfield\"\u001b[0m\u001b[0;34m)\u001b[0m\u001b[0;34m)\u001b[0m\u001b[0;34m\u001b[0m\u001b[0;34m\u001b[0m\u001b[0m\n",
      "\u001b[0;32m<ipython-input-7-47b5cf52856d>\u001b[0m in \u001b[0;36menqueue\u001b[0;34m(self, animal)\u001b[0m\n\u001b[1;32m      5\u001b[0m \u001b[0;34m\u001b[0m\u001b[0m\n\u001b[1;32m      6\u001b[0m     \u001b[0;32mdef\u001b[0m \u001b[0menqueue\u001b[0m\u001b[0;34m(\u001b[0m\u001b[0mself\u001b[0m\u001b[0;34m,\u001b[0m \u001b[0manimal\u001b[0m\u001b[0;34m)\u001b[0m\u001b[0;34m:\u001b[0m\u001b[0;34m\u001b[0m\u001b[0;34m\u001b[0m\u001b[0m\n\u001b[0;32m----> 7\u001b[0;31m         \u001b[0;32mif\u001b[0m \u001b[0manimal\u001b[0m\u001b[0;34m.\u001b[0m\u001b[0m__class\u001b[0m \u001b[0;34m==\u001b[0m \u001b[0mCat\u001b[0m\u001b[0;34m:\u001b[0m\u001b[0;34m\u001b[0m\u001b[0;34m\u001b[0m\u001b[0m\n\u001b[0m\u001b[1;32m      8\u001b[0m             \u001b[0mself\u001b[0m\u001b[0;34m.\u001b[0m\u001b[0mcats\u001b[0m\u001b[0;34m.\u001b[0m\u001b[0mappend\u001b[0m\u001b[0;34m(\u001b[0m\u001b[0manimal\u001b[0m\u001b[0;34m)\u001b[0m\u001b[0;34m\u001b[0m\u001b[0;34m\u001b[0m\u001b[0m\n\u001b[1;32m      9\u001b[0m         \u001b[0;32melse\u001b[0m\u001b[0;34m:\u001b[0m\u001b[0;34m\u001b[0m\u001b[0;34m\u001b[0m\u001b[0m\n",
      "\u001b[0;31mAttributeError\u001b[0m: 'Cat' object has no attribute '_AnimalShelter__class'"
     ]
    }
   ],
   "source": [
    "if __name__ == \"__main__\":\n",
    "    shelter = AnimalShelter()\n",
    "    cat1 = Cat('Pluto')\n",
    "    shelter.enqueue(cat1)\n",
    "    shelter.enqueue(Dog(\"Pluto\"))\n",
    "    shelter.enqueue(Cat(\"Garfield\"))\n",
    "    shelter.enqueue(Cat(\"Tony\"))\n",
    "    shelter.enqueue(Dog(\"Clifford\"))\n",
    "    shelter.enqueue(Dog(\"Blue\"))\n",
    "    print(str(shelter.dequeueAny()))\n",
    "    print(str(shelter.dequeueAny()))\n",
    "    print(str(shelter.dequeueDog()))\n",
    "    print(str(shelter.dequeueDog()))\n",
    "    print(str(shelter.dequeueCat()))\n",
    "    print(str(shelter.dequeueCat()))\n",
    "    print(str(shelter.dequeueAny()))\n",
    "    print(str(shelter.dequeueAny()))"
   ]
  }
 ],
 "metadata": {
  "kernelspec": {
   "display_name": "Python 3",
   "language": "python",
   "name": "python3"
  },
  "language_info": {
   "codemirror_mode": {
    "name": "ipython",
    "version": 3
   },
   "file_extension": ".py",
   "mimetype": "text/x-python",
   "name": "python",
   "nbconvert_exporter": "python",
   "pygments_lexer": "ipython3",
   "version": "3.7.6"
  }
 },
 "nbformat": 4,
 "nbformat_minor": 4
}
