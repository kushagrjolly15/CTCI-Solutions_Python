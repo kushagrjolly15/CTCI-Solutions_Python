{
 "cells": [
  {
   "cell_type": "code",
   "execution_count": 7,
   "metadata": {},
   "outputs": [],
   "source": [
    "class SetOfStacks():\n",
    "    def __init__(self, n):\n",
    "        self.stacks = [[]]\n",
    "        self.capacity = n\n",
    "        \n",
    "    def push(self, item):\n",
    "        if len(self.stacks[-1]) == self.capacity:\n",
    "            self.stacks.append([])\n",
    "        self.stacks[-1].append(item)\n",
    "        \n",
    "    def pop(self):\n",
    "        if len(self.stacks[-1]) == 0:\n",
    "            del self.stacks[-1]\n",
    "        self.stacks[-1].pop()\n",
    "        \n",
    "    def popAt(self, index):\n",
    "        self.stacks[index].pop()\n",
    "        \n",
    "    def __repr__(self):\n",
    "        return str(self.stacks)\n",
    "        "
   ]
  },
  {
   "cell_type": "code",
   "execution_count": 8,
   "metadata": {},
   "outputs": [
    {
     "name": "stdout",
     "output_type": "stream",
     "text": [
      "[[10, 15], [8, 8], [8, 8], [8, 8], [8, 8], [8]]\n",
      "[[10, 15], [8, 8], [8, 8], [8, 8], [8, 8], []]\n",
      "[[10, 15], [8, 8], [8], [8, 8], [8, 8], []]\n"
     ]
    }
   ],
   "source": [
    "if __name__ == '__main__':\n",
    "    s = SetOfStacks(2)\n",
    "    s.push(10)\n",
    "    s.push(15)\n",
    "    s.push(8)\n",
    "    s.push(8)\n",
    "    s.push(8)\n",
    "    s.push(8)\n",
    "    s.push(8)\n",
    "    s.push(8)\n",
    "    s.push(8)\n",
    "    s.push(8)\n",
    "    s.push(8)\n",
    "    print(s)\n",
    "    s.pop()\n",
    "    print(s)\n",
    "    s.popAt(2)\n",
    "    print(s)"
   ]
  },
  {
   "cell_type": "code",
   "execution_count": null,
   "metadata": {},
   "outputs": [],
   "source": []
  }
 ],
 "metadata": {
  "kernelspec": {
   "display_name": "Python 3",
   "language": "python",
   "name": "python3"
  },
  "language_info": {
   "codemirror_mode": {
    "name": "ipython",
    "version": 3
   },
   "file_extension": ".py",
   "mimetype": "text/x-python",
   "name": "python",
   "nbconvert_exporter": "python",
   "pygments_lexer": "ipython3",
   "version": "3.7.6"
  }
 },
 "nbformat": 4,
 "nbformat_minor": 4
}
