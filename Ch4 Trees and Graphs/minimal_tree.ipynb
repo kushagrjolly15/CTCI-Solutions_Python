{
 "cells": [
  {
   "cell_type": "code",
   "execution_count": 21,
   "metadata": {},
   "outputs": [],
   "source": [
    "class Node():\n",
    "    def __init__(self, data=None, left=None, right=None):\n",
    "        self.data, self.left, self.right = data, left, right\n",
    "    def __str__(self):\n",
    "        string = \"(\" + str(self.data)\n",
    "        if self.left:  string += str(self.left)\n",
    "        else:          string += \".\"\n",
    "        if self.right: string += str(self.right)\n",
    "        else:          string += \".\"\n",
    "        return string + \")\""
   ]
  },
  {
   "cell_type": "code",
   "execution_count": 22,
   "metadata": {},
   "outputs": [],
   "source": [
    "def minTree(v):\n",
    "    if not v:\n",
    "        return 0\n",
    "    middle = len(v) // 2\n",
    "    left = minTree(v[:middle])\n",
    "    right = minTree(v[middle + 1:])\n",
    "    return Node(v[middle], left, right)"
   ]
  },
  {
   "cell_type": "code",
   "execution_count": 23,
   "metadata": {},
   "outputs": [
    {
     "name": "stdout",
     "output_type": "stream",
     "text": [
      "(20(5(3(2..).)(15(10..).))(100(40(30..).)(500(240..).)))\n"
     ]
    }
   ],
   "source": [
    "def main():\n",
    "    v  = [ 2, 3, 5, 10, 15, 20, 30, 40, 100, 240, 500]\n",
    "    t = minTree(v)\n",
    "    print(str(t))\n",
    "if __name__ == '__main__':\n",
    "    main()"
   ]
  }
 ],
 "metadata": {
  "kernelspec": {
   "display_name": "Python 3",
   "language": "python",
   "name": "python3"
  },
  "language_info": {
   "codemirror_mode": {
    "name": "ipython",
    "version": 3
   },
   "file_extension": ".py",
   "mimetype": "text/x-python",
   "name": "python",
   "nbconvert_exporter": "python",
   "pygments_lexer": "ipython3",
   "version": "3.7.6"
  }
 },
 "nbformat": 4,
 "nbformat_minor": 4
}
