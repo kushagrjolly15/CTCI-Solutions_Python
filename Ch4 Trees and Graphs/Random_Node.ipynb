{
 "cells": [
  {
   "cell_type": "code",
   "execution_count": 11,
   "metadata": {},
   "outputs": [],
   "source": [
    "class BinaryTree():\n",
    "    def __init__(self, data):\n",
    "        self.data = data\n",
    "        self.left = None\n",
    "        self.right = None\n",
    "        self.size = 1\n",
    "    def find(self, data):\n",
    "        node = self\n",
    "        while node:\n",
    "            if node.data == data:\n",
    "                return node\n",
    "            elif node.data > data:\n",
    "                node = node.left\n",
    "            elif node.data < data:\n",
    "                node = node.right\n",
    "        return None\n",
    "    def insertInOrder(self, data):\n",
    "        if data <= self.data:\n",
    "            if self.left == None:\n",
    "                self.left = BinaryTree(data)\n",
    "            else:\n",
    "                self.left.insertInOrder(data)\n",
    "        else:\n",
    "            if self.right == None:\n",
    "                self.right = BinaryTree(data)\n",
    "            else:\n",
    "                self.right.insertInOrder(data)\n",
    "        self.size += 1\n",
    "    def getRandomNode(self):\n",
    "        import random\n",
    "        leftSize = 0 if self.left == None else self.left.size\n",
    "        index = random.randrange(0, self.size, 1)\n",
    "        if index < leftSize:\n",
    "            return self.left.getRandomNode()\n",
    "        elif index == leftSize:\n",
    "            return self\n",
    "        else:\n",
    "            return self.right.getRandomNode()\n",
    "    def __repr__(self):\n",
    "        return str(self.data)"
   ]
  },
  {
   "cell_type": "code",
   "execution_count": 12,
   "metadata": {},
   "outputs": [
    {
     "name": "stdout",
     "output_type": "stream",
     "text": [
      "20\n",
      "7\n",
      "7\n",
      "20\n",
      "20\n",
      "65\n",
      "70\n",
      "65\n",
      "65\n",
      "70\n",
      "10\n",
      "15\n",
      "65\n",
      "1.5\n",
      "5\n",
      "20\n"
     ]
    }
   ],
   "source": [
    "a = BinaryTree(20)\n",
    "a.insertInOrder(10)\n",
    "a.insertInOrder(5)\n",
    "a.insertInOrder(15)\n",
    "a.insertInOrder(25)\n",
    "a.insertInOrder(1.5)\n",
    "a.insertInOrder(3)\n",
    "a.insertInOrder(50)\n",
    "a.insertInOrder(20)\n",
    "a.insertInOrder(70)\n",
    "a.insertInOrder(65)\n",
    "a.insertInOrder(7)\n",
    "print(a)\n",
    "for i in range(15):\n",
    "    print(a.getRandomNode())"
   ]
  },
  {
   "cell_type": "code",
   "execution_count": null,
   "metadata": {},
   "outputs": [],
   "source": []
  }
 ],
 "metadata": {
  "kernelspec": {
   "display_name": "Python 3",
   "language": "python",
   "name": "python3"
  },
  "language_info": {
   "codemirror_mode": {
    "name": "ipython",
    "version": 3
   },
   "file_extension": ".py",
   "mimetype": "text/x-python",
   "name": "python",
   "nbconvert_exporter": "python",
   "pygments_lexer": "ipython3",
   "version": "3.7.6"
  }
 },
 "nbformat": 4,
 "nbformat_minor": 4
}
