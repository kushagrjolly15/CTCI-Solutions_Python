{
 "cells": [
  {
   "cell_type": "code",
   "execution_count": 1,
   "metadata": {},
   "outputs": [],
   "source": [
    "class Node():\n",
    "    def __init__(self, data, left=None, right=None):\n",
    "        self.data, self.left, self.right = data, left, right\n",
    "        self.parent = None\n",
    "        if self.left:  \n",
    "            self.left.parent  = self\n",
    "        if self.right: \n",
    "            self.right.parent = self"
   ]
  },
  {
   "cell_type": "code",
   "execution_count": 2,
   "metadata": {},
   "outputs": [],
   "source": [
    "def successor(node):\n",
    "    if not node:\n",
    "        return None\n",
    "    child = node.right\n",
    "    if child:\n",
    "        while child.left:\n",
    "            child = child.left\n",
    "        if child:\n",
    "            return child\n",
    "        if node.parent and node.parent.data > node.data:\n",
    "            return node.parent\n",
    "    return None"
   ]
  },
  {
   "cell_type": "code",
   "execution_count": 5,
   "metadata": {},
   "outputs": [
    {
     "name": "stdout",
     "output_type": "stream",
     "text": [
      "None\n",
      "33\n",
      "28\n",
      "None\n",
      "None\n"
     ]
    }
   ],
   "source": [
    "print(successor(Node(22, Node(11))))\n",
    "print(successor(Node(22, Node(11), Node(33))).data)\n",
    "print(successor(Node(22, Node(11), Node(33, Node(28)))).data)\n",
    "print(successor(Node(22, Node(11), Node(33)).left))\n",
    "print(successor(Node(22, Node(11), Node(33)).right))"
   ]
  },
  {
   "cell_type": "code",
   "execution_count": null,
   "metadata": {},
   "outputs": [],
   "source": []
  }
 ],
 "metadata": {
  "kernelspec": {
   "display_name": "Python 3",
   "language": "python",
   "name": "python3"
  },
  "language_info": {
   "codemirror_mode": {
    "name": "ipython",
    "version": 3
   },
   "file_extension": ".py",
   "mimetype": "text/x-python",
   "name": "python",
   "nbconvert_exporter": "python",
   "pygments_lexer": "ipython3",
   "version": "3.7.6"
  }
 },
 "nbformat": 4,
 "nbformat_minor": 4
}
