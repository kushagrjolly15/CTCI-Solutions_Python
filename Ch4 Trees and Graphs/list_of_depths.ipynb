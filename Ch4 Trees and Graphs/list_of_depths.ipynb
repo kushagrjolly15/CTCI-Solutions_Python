{
 "cells": [
  {
   "cell_type": "code",
   "execution_count": 6,
   "metadata": {},
   "outputs": [],
   "source": [
    "class Node():\n",
    "    def __init__(self, data):\n",
    "        self.data = data\n",
    "        self.children = []"
   ]
  },
  {
   "cell_type": "code",
   "execution_count": 17,
   "metadata": {},
   "outputs": [],
   "source": [
    "def listOfDepths(root):\n",
    "    q = []\n",
    "    s = set()\n",
    "    res = {}\n",
    "    q.append((root, 0))\n",
    "    while q:\n",
    "        currNode, currLevel = q.pop()\n",
    "        if currNode not in s:\n",
    "            s.add(currNode)\n",
    "            if currLevel not in res:\n",
    "                res[currLevel] = [currNode.data]\n",
    "            else:\n",
    "                res[currLevel].append(currNode.data)\n",
    "            for node in currNode.children:\n",
    "                q.insert(0, (node, currLevel + 1))\n",
    "    return res"
   ]
  },
  {
   "cell_type": "code",
   "execution_count": 18,
   "metadata": {},
   "outputs": [
    {
     "name": "stdout",
     "output_type": "stream",
     "text": [
      "{0: [1], 1: [2, 3], 2: [4, 5], 3: [6]}\n"
     ]
    }
   ],
   "source": [
    "if __name__ == '__main__':\n",
    "    a = Node(1)\n",
    "    a.children.append( Node(2))\n",
    "    a.children.append(Node(3))\n",
    "    a.children[0].children.append(Node(4))\n",
    "    a.children[1].children.append(Node(5))\n",
    "    a.children[0].children[0].children.append(Node(6))\n",
    "    print(listOfDepths(a))"
   ]
  },
  {
   "cell_type": "code",
   "execution_count": null,
   "metadata": {},
   "outputs": [],
   "source": []
  }
 ],
 "metadata": {
  "kernelspec": {
   "display_name": "Python 3",
   "language": "python",
   "name": "python3"
  },
  "language_info": {
   "codemirror_mode": {
    "name": "ipython",
    "version": 3
   },
   "file_extension": ".py",
   "mimetype": "text/x-python",
   "name": "python",
   "nbconvert_exporter": "python",
   "pygments_lexer": "ipython3",
   "version": "3.7.6"
  }
 },
 "nbformat": 4,
 "nbformat_minor": 4
}
