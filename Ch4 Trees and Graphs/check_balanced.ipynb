{
 "cells": [
  {
   "cell_type": "code",
   "execution_count": 2,
   "metadata": {},
   "outputs": [],
   "source": [
    "class Node():\n",
    "    def __init__(self, left=None, right=None):\n",
    "        self.left, self.right = left, right"
   ]
  },
  {
   "cell_type": "code",
   "execution_count": 8,
   "metadata": {},
   "outputs": [],
   "source": [
    "def is_balanced(binary_tree):\n",
    "    if not binary_tree:\n",
    "        return (True, 0)\n",
    "    (left_balanced, left_depth) = is_balanced(binary_tree.left)\n",
    "    if not left_balanced:\n",
    "        return (False, None)\n",
    "    (right_balanced, right_depth) = is_balanced(binary_tree.right)\n",
    "    if not right_balanced or (abs(left_depth - right_depth) > 1):\n",
    "        return (False, None)\n",
    "    depth = max(left_depth, right_depth) + 1\n",
    "    return (True , depth)"
   ]
  },
  {
   "cell_type": "code",
   "execution_count": 9,
   "metadata": {},
   "outputs": [
    {
     "name": "stdout",
     "output_type": "stream",
     "text": [
      "(True, 2)\n",
      "(True, 3)\n",
      "(False, None)\n",
      "(False, None)\n",
      "(True, 4)\n"
     ]
    }
   ],
   "source": [
    "if __name__ == \"__main__\": \n",
    "    print(is_balanced(Node(Node(),Node())))\n",
    "    print(is_balanced(Node(Node(),Node(Node()))))\n",
    "    print(is_balanced(Node(Node(),Node(Node(Node())))))\n",
    "    print(is_balanced(Node(Node(Node()),Node(Node(Node())))))\n",
    "    print(is_balanced(Node(Node(Node()),Node(Node(Node()),Node()))))\n",
    "                        "
   ]
  },
  {
   "cell_type": "code",
   "execution_count": null,
   "metadata": {},
   "outputs": [],
   "source": []
  }
 ],
 "metadata": {
  "kernelspec": {
   "display_name": "Python 3",
   "language": "python",
   "name": "python3"
  },
  "language_info": {
   "codemirror_mode": {
    "name": "ipython",
    "version": 3
   },
   "file_extension": ".py",
   "mimetype": "text/x-python",
   "name": "python",
   "nbconvert_exporter": "python",
   "pygments_lexer": "ipython3",
   "version": "3.7.6"
  }
 },
 "nbformat": 4,
 "nbformat_minor": 4
}
