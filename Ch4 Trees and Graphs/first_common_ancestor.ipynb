{
 "cells": [
  {
   "cell_type": "code",
   "execution_count": 15,
   "metadata": {},
   "outputs": [
    {
     "name": "stdout",
     "output_type": "stream",
     "text": [
      "<__main__.Node object at 0x111cfe310>\n"
     ]
    }
   ],
   "source": [
    "if __name__ == '__main__':\n",
    "    a = Node(1)\n",
    "    a.left = Node(0)\n",
    "    a.right = Node(2)\n",
    "    a.right.left = Node(1.5)\n",
    "    a.right.right = Node(3)\n",
    "    print(getLCA(a, 0, 3))"
   ]
  },
  {
   "cell_type": "code",
   "execution_count": 8,
   "metadata": {},
   "outputs": [],
   "source": [
    "class Node():\n",
    "    def __init__(self, data):\n",
    "        self.data = data\n",
    "        self.left = None\n",
    "        self.right = None"
   ]
  },
  {
   "cell_type": "code",
   "execution_count": 10,
   "metadata": {},
   "outputs": [],
   "source": [
    "def LCA(head, n1, n2):\n",
    "    if (not find(head, n1) or not find(head, n1)):\n",
    "        return None\n",
    "    else:\n",
    "        return getactualLCA(head, n1, n2)"
   ]
  },
  {
   "cell_type": "code",
   "execution_count": 11,
   "metadata": {},
   "outputs": [],
   "source": [
    "def getactualLCA(head, n1, n2):\n",
    "    if head == None:\n",
    "        return None\n",
    "    elif head.data == n1:\n",
    "        return head\n",
    "    elif head.data == n2:\n",
    "        return head\n",
    "    n1inleft = find(head.left, n1)\n",
    "    n2inleft = find(head.left, n2)\n",
    "    if n1inleft != n2inleft:\n",
    "        return head\n",
    "    child = head.left if n1inleft else head.right\n",
    "    return getactualLCA(child, n1, n2)"
   ]
  },
  {
   "cell_type": "code",
   "execution_count": 14,
   "metadata": {},
   "outputs": [],
   "source": [
    "def find(head, n1):\n",
    "    if head == None:\n",
    "        return False\n",
    "    if n1 == head.data:\n",
    "        return True\n",
    "    return find(head.left, n1) or find(head.right, n1)"
   ]
  },
  {
   "cell_type": "code",
   "execution_count": null,
   "metadata": {},
   "outputs": [],
   "source": []
  }
 ],
 "metadata": {
  "kernelspec": {
   "display_name": "Python 3",
   "language": "python",
   "name": "python3"
  },
  "language_info": {
   "codemirror_mode": {
    "name": "ipython",
    "version": 3
   },
   "file_extension": ".py",
   "mimetype": "text/x-python",
   "name": "python",
   "nbconvert_exporter": "python",
   "pygments_lexer": "ipython3",
   "version": "3.7.6"
  }
 },
 "nbformat": 4,
 "nbformat_minor": 4
}
