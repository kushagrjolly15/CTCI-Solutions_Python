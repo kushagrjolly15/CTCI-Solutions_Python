{
 "cells": [
  {
   "cell_type": "code",
   "execution_count": 1,
   "metadata": {},
   "outputs": [],
   "source": [
    "class Node():\n",
    "    def __init__(self, data, left=None, right=None):\n",
    "        self.data, self.left, self.right = data, left, right"
   ]
  },
  {
   "cell_type": "code",
   "execution_count": 18,
   "metadata": {},
   "outputs": [],
   "source": [
    "def validate_tree(binary_tree):\n",
    "    return validate_tree_node(binary_tree, -float('inf'), float('inf'))\n",
    "\n",
    "def validate_tree_node(node, left_bound, right_bound):\n",
    "    if not node:\n",
    "        return True\n",
    "    return node.data >= left_bound and node.data <= right_bound and \\\n",
    "validate_tree_node(node.left, left_bound, node.data) and \\\n",
    "validate_tree_node(node.right, node.data, right_bound)"
   ]
  },
  {
   "cell_type": "code",
   "execution_count": 17,
   "metadata": {},
   "outputs": [
    {
     "name": "stdout",
     "output_type": "stream",
     "text": [
      "True\n",
      "True\n",
      "False\n"
     ]
    }
   ],
   "source": [
    "print(validate_tree(Node(3,Node(1),Node(8))))\n",
    "tree1 = Node(5,Node(3,Node(1),Node(4)),Node(7,Node(6),Node(8,None,Node(9))))\n",
    "print(validate_tree(tree1))\n",
    "tree2 = Node(7,Node(3,Node(1),Node(8)),Node(9,Node(8),Node(11)))\n",
    "print(validate_tree(tree2))"
   ]
  },
  {
   "cell_type": "code",
   "execution_count": null,
   "metadata": {},
   "outputs": [],
   "source": []
  }
 ],
 "metadata": {
  "kernelspec": {
   "display_name": "Python 3",
   "language": "python",
   "name": "python3"
  },
  "language_info": {
   "codemirror_mode": {
    "name": "ipython",
    "version": 3
   },
   "file_extension": ".py",
   "mimetype": "text/x-python",
   "name": "python",
   "nbconvert_exporter": "python",
   "pygments_lexer": "ipython3",
   "version": "3.7.6"
  }
 },
 "nbformat": 4,
 "nbformat_minor": 4
}
