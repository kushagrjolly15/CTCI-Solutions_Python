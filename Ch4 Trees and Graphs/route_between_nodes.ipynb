{
 "cells": [
  {
   "cell_type": "markdown",
   "metadata": {},
   "source": [
    "route between nodes"
   ]
  },
  {
   "cell_type": "code",
   "execution_count": 1,
   "metadata": {},
   "outputs": [],
   "source": [
    "class Node():\n",
    "    def __init__(self, data):\n",
    "        self.data = data\n",
    "        self.children = []\n",
    "\n",
    "class Graph():\n",
    "    def __init__(self, nodes):\n",
    "        self.nodes = [node for node in nodes]\n",
    "\n",
    "class Tree():\n",
    "    def __init__(self, data):\n",
    "        self.root = Node(data)\n",
    "\n",
    "class BNode():\n",
    "    def __init__(self, data):\n",
    "        self.data = data\n",
    "        self.left = None\n",
    "        self.right = None"
   ]
  },
  {
   "cell_type": "code",
   "execution_count": 2,
   "metadata": {},
   "outputs": [],
   "source": [
    "def findRouteDoubleStart(graph, s, f):\n",
    "    q1= []\n",
    "    q2 = []\n",
    "    q1.append(s)\n",
    "    q2.append(f)\n",
    "    s1 = set()\n",
    "    s2 = set()\n",
    "    while len(q1) !=0 or len(q2) != 0:\n",
    "        if len(q1) > 0:\n",
    "            c1 = q1.pop()\n",
    "            if c1 not in s1:\n",
    "                s1.add(c1)\n",
    "                for node in c1.children:\n",
    "                    q1.insert(0, node)\n",
    "            if c1 in s2:\n",
    "                return True\n",
    "        if len(q2) > 0:\n",
    "            c2 = q2.pop()\n",
    "            if c2 not in s2:\n",
    "                s2.add(c2)\n",
    "                for node in c2.children:\n",
    "                    q2.insert(0, node)\n",
    "            if c2 in s1:\n",
    "                return True\n",
    "    return False"
   ]
  },
  {
   "cell_type": "code",
   "execution_count": 3,
   "metadata": {},
   "outputs": [],
   "source": [
    "def findRoute(graph, a, f):\n",
    "    q = []\n",
    "    s = set()\n",
    "    q.append(a)\n",
    "    while q:\n",
    "        current = q.pop()\n",
    "        if current == f:\n",
    "            return True\n",
    "        if current not in s:\n",
    "            s.add(current)\n",
    "            for node in current.children:\n",
    "                q.insert(0, node)\n",
    "    q.append(f)\n",
    "    \n",
    "    q = []\n",
    "    s = set()\n",
    "    q.append(a)\n",
    "    while len(q) > 0:\n",
    "        current = q.pop()\n",
    "        if current == f:\n",
    "            return True\n",
    "        if current not in s:\n",
    "            s.add(current)\n",
    "            for node in current.children:\n",
    "                q.insert(0, node)\n",
    "    q.append(f)\n",
    "    while len(q) > 0:\n",
    "        current = q.pop()\n",
    "        if current == f:\n",
    "            return True\n",
    "        if current not in s:\n",
    "            s.add(current)\n",
    "            for node in current.children:\n",
    "                q.insert(0, node)\n",
    "    return False"
   ]
  },
  {
   "cell_type": "code",
   "execution_count": 4,
   "metadata": {},
   "outputs": [
    {
     "name": "stdout",
     "output_type": "stream",
     "text": [
      "True\n"
     ]
    }
   ],
   "source": [
    "if __name__ == '__main__':\n",
    "    a = Node('a')\n",
    "    b = Node('b')\n",
    "    c = Node('c')\n",
    "    a.children.append(b)\n",
    "    #b.children.append(c)\n",
    "    c.children.append(b)\n",
    "    b.children.append(a)\n",
    "    G  = Graph( [a,b,c] )\n",
    "    print(findRoute(G, a, c))"
   ]
  },
  {
   "cell_type": "code",
   "execution_count": null,
   "metadata": {},
   "outputs": [],
   "source": []
  }
 ],
 "metadata": {
  "kernelspec": {
   "display_name": "Python 3",
   "language": "python",
   "name": "python3"
  },
  "language_info": {
   "codemirror_mode": {
    "name": "ipython",
    "version": 3
   },
   "file_extension": ".py",
   "mimetype": "text/x-python",
   "name": "python",
   "nbconvert_exporter": "python",
   "pygments_lexer": "ipython3",
   "version": "3.7.6"
  }
 },
 "nbformat": 4,
 "nbformat_minor": 4
}
