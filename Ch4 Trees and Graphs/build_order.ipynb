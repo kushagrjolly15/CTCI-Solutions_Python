{
 "cells": [
  {
   "cell_type": "code",
   "execution_count": 29,
   "metadata": {},
   "outputs": [],
   "source": [
    "def buildOrder(projects, dependencies):\n",
    "    response = []\n",
    "    inedges = {project: [] for project in projects}\n",
    "    outedges = {project: [] for project in projects}\n",
    "    for p1, p2 in dependencies:\n",
    "        inedges[p1].append(p2)\n",
    "        outedges[p2].append(p1)\n",
    "    while True:\n",
    "        changed = False\n",
    "        nodesToRemove = []\n",
    "        for node in inedges:\n",
    "            if inedges[node] == []:\n",
    "                changed = True\n",
    "                nodesToRemove.append(node)\n",
    "                response.append(node)\n",
    "                for nextNode in outedges[node]:\n",
    "                    inedges[nextNode].remove(node)\n",
    "        for node in nodesToRemove:\n",
    "            del inedges[node]\n",
    "        if changed == False:\n",
    "            break\n",
    "    if len(response) != len(projects):\n",
    "        return []\n",
    "    else:\n",
    "        return response        "
   ]
  },
  {
   "cell_type": "code",
   "execution_count": 30,
   "metadata": {},
   "outputs": [
    {
     "name": "stdout",
     "output_type": "stream",
     "text": [
      "['d', 'f', 'g', 'b', 'c', 'a', 'e']\n"
     ]
    }
   ],
   "source": [
    "if __name__ == '__main__':\n",
    "    projects = [ 'a', 'b', 'c', 'd', 'e', 'f', 'g']\n",
    "    dependencies = [ ('c', 'f'), ('b', 'f'), ('a', 'f'), ('a', 'b'), ('a', 'c'), ('e', 'a'), ('e', 'b'),  ('g', 'd')]\n",
    "\n",
    "    print(buildOrder(projects, dependencies))"
   ]
  },
  {
   "cell_type": "code",
   "execution_count": null,
   "metadata": {},
   "outputs": [],
   "source": []
  }
 ],
 "metadata": {
  "kernelspec": {
   "display_name": "Python 3",
   "language": "python",
   "name": "python3"
  },
  "language_info": {
   "codemirror_mode": {
    "name": "ipython",
    "version": 3
   },
   "file_extension": ".py",
   "mimetype": "text/x-python",
   "name": "python",
   "nbconvert_exporter": "python",
   "pygments_lexer": "ipython3",
   "version": "3.7.6"
  }
 },
 "nbformat": 4,
 "nbformat_minor": 4
}
